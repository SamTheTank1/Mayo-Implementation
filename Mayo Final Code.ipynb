{
 "cells": [
  {
   "cell_type": "code",
   "execution_count": 38,
   "id": "6d58623b",
   "metadata": {},
   "outputs": [
    {
     "data": {
      "text/html": [
       "<html><script type=\"math/tex; mode=display\">\\newcommand{\\Bold}[1]{\\mathbf{#1}}\\left[\\verb|x1|, \\verb|x2|, \\verb|x3|, \\verb|x4|, \\verb|x5|\\right]</script></html>"
      ],
      "text/latex": [
       "$$\\newcommand{\\Bold}[1]{\\mathbf{#1}}\\left[\\verb|x1|, \\verb|x2|, \\verb|x3|, \\verb|x4|, \\verb|x5|\\right]$$"
      ],
      "text/plain": [
       "['x1', 'x2', 'x3', 'x4', 'x5']"
      ]
     },
     "metadata": {},
     "output_type": "display_data"
    },
    {
     "data": {
      "text/html": [
       "<html><script type=\"math/tex; mode=display\">\\newcommand{\\Bold}[1]{\\mathbf{#1}}0</script></html>"
      ],
      "text/latex": [
       "$$\\newcommand{\\Bold}[1]{\\mathbf{#1}}0$$"
      ],
      "text/plain": [
       "0"
      ]
     },
     "metadata": {},
     "output_type": "display_data"
    },
    {
     "data": {
      "text/html": [
       "<html><script type=\"math/tex; mode=display\">\\newcommand{\\Bold}[1]{\\mathbf{#1}}\\left[\\verb|x6|, \\verb|x7|, \\verb|x8|, \\verb|x9|, \\verb|x10|\\right]</script></html>"
      ],
      "text/latex": [
       "$$\\newcommand{\\Bold}[1]{\\mathbf{#1}}\\left[\\verb|x6|, \\verb|x7|, \\verb|x8|, \\verb|x9|, \\verb|x10|\\right]$$"
      ],
      "text/plain": [
       "['x6', 'x7', 'x8', 'x9', 'x10']"
      ]
     },
     "metadata": {},
     "output_type": "display_data"
    },
    {
     "data": {
      "text/html": [
       "<html><script type=\"math/tex; mode=display\">\\newcommand{\\Bold}[1]{\\mathbf{#1}}1</script></html>"
      ],
      "text/latex": [
       "$$\\newcommand{\\Bold}[1]{\\mathbf{#1}}1$$"
      ],
      "text/plain": [
       "1"
      ]
     },
     "metadata": {},
     "output_type": "display_data"
    },
    {
     "data": {
      "text/html": [
       "<html><script type=\"math/tex; mode=display\">\\newcommand{\\Bold}[1]{\\mathbf{#1}}\\left(\\begin{array}{rrrrr}\n",
       "x_{1} & x_{2} & x_{3} & x_{4} & x_{5}\n",
       "\\end{array}\\right)</script></html>"
      ],
      "text/latex": [
       "$$\\newcommand{\\Bold}[1]{\\mathbf{#1}}\\left(\\begin{array}{rrrrr}\n",
       "x_{1} & x_{2} & x_{3} & x_{4} & x_{5}\n",
       "\\end{array}\\right)$$"
      ],
      "text/plain": [
       "[x1 x2 x3 x4 x5]"
      ]
     },
     "metadata": {},
     "output_type": "display_data"
    },
    {
     "data": {
      "text/html": [
       "<html><script type=\"math/tex; mode=display\">\\newcommand{\\Bold}[1]{\\mathbf{#1}}\\left(\\begin{array}{rrrrr}\n",
       "x_{6} & x_{7} & x_{8} & x_{9} & x_{10}\n",
       "\\end{array}\\right)</script></html>"
      ],
      "text/latex": [
       "$$\\newcommand{\\Bold}[1]{\\mathbf{#1}}\\left(\\begin{array}{rrrrr}\n",
       "x_{6} & x_{7} & x_{8} & x_{9} & x_{10}\n",
       "\\end{array}\\right)$$"
      ],
      "text/plain": [
       "[ x6  x7  x8  x9 x10]"
      ]
     },
     "metadata": {},
     "output_type": "display_data"
    },
    {
     "name": "stdout",
     "output_type": "stream",
     "text": [
      "U=\n"
     ]
    },
    {
     "data": {
      "text/html": [
       "<html><script type=\"math/tex; mode=display\">\\newcommand{\\Bold}[1]{\\mathbf{#1}}\\left(\\begin{array}{rrrrr}\n",
       "2 & 2 & 0 & 1 & 0 \\\\\n",
       "1 & 1 & 2 & 1 & 0 \\\\\n",
       "2 & 0 & 0 & 2 & 2 \\\\\n",
       "0 & 1 & 2 & 1 & 0 \\\\\n",
       "0 & 0 & 2 & 2 & 2\n",
       "\\end{array}\\right)</script></html>"
      ],
      "text/latex": [
       "$$\\newcommand{\\Bold}[1]{\\mathbf{#1}}\\left(\\begin{array}{rrrrr}\n",
       "2 & 2 & 0 & 1 & 0 \\\\\n",
       "1 & 1 & 2 & 1 & 0 \\\\\n",
       "2 & 0 & 0 & 2 & 2 \\\\\n",
       "0 & 1 & 2 & 1 & 0 \\\\\n",
       "0 & 0 & 2 & 2 & 2\n",
       "\\end{array}\\right)$$"
      ],
      "text/plain": [
       "[2 2 0 1 0]\n",
       "[1 1 2 1 0]\n",
       "[2 0 0 2 2]\n",
       "[0 1 2 1 0]\n",
       "[0 0 2 2 2]"
      ]
     },
     "metadata": {},
     "output_type": "display_data"
    },
    {
     "name": "stdout",
     "output_type": "stream",
     "text": [
      "T=\n"
     ]
    },
    {
     "data": {
      "text/html": [
       "<html><script type=\"math/tex; mode=display\">\\newcommand{\\Bold}[1]{\\mathbf{#1}}\\left(\\begin{array}{rr}\n",
       "0 & 2 \\\\\n",
       "2 & 2\n",
       "\\end{array}\\right)</script></html>"
      ],
      "text/latex": [
       "$$\\newcommand{\\Bold}[1]{\\mathbf{#1}}\\left(\\begin{array}{rr}\n",
       "0 & 2 \\\\\n",
       "2 & 2\n",
       "\\end{array}\\right)$$"
      ],
      "text/plain": [
       "[0 2]\n",
       "[2 2]"
      ]
     },
     "metadata": {},
     "output_type": "display_data"
    },
    {
     "data": {
      "text/html": [
       "<html><script type=\"math/tex; mode=display\">\\newcommand{\\Bold}[1]{\\mathbf{#1}}\\left[0, 0\\right]</script></html>"
      ],
      "text/latex": [
       "$$\\newcommand{\\Bold}[1]{\\mathbf{#1}}\\left[0, 0\\right]$$"
      ],
      "text/plain": [
       "[0, 0]"
      ]
     },
     "metadata": {},
     "output_type": "display_data"
    },
    {
     "name": "stdout",
     "output_type": "stream",
     "text": [
      "This is xU list\n"
     ]
    },
    {
     "data": {
      "text/html": [
       "<html><script type=\"math/tex; mode=display\">\\newcommand{\\Bold}[1]{\\mathbf{#1}}\\left[\\left(\\begin{array}{rrrrr}\n",
       "-x_{1} + x_{2} - x_{3} & -x_{1} + x_{2} + x_{4} & -x_{2} - x_{4} - x_{5} & x_{1} + x_{2} - x_{3} + x_{4} - x_{5} & -x_{3} - x_{5}\n",
       "\\end{array}\\right), \\left(\\begin{array}{rrrrr}\n",
       "-x_{6} + x_{7} - x_{8} & -x_{6} + x_{7} + x_{9} & -x_{7} - x_{9} - x_{10} & x_{6} + x_{7} - x_{8} + x_{9} - x_{10} & -x_{8} - x_{10}\n",
       "\\end{array}\\right)\\right]</script></html>"
      ],
      "text/latex": [
       "$$\\newcommand{\\Bold}[1]{\\mathbf{#1}}\\left[\\left(\\begin{array}{rrrrr}\n",
       "-x_{1} + x_{2} - x_{3} & -x_{1} + x_{2} + x_{4} & -x_{2} - x_{4} - x_{5} & x_{1} + x_{2} - x_{3} + x_{4} - x_{5} & -x_{3} - x_{5}\n",
       "\\end{array}\\right), \\left(\\begin{array}{rrrrr}\n",
       "-x_{6} + x_{7} - x_{8} & -x_{6} + x_{7} + x_{9} & -x_{7} - x_{9} - x_{10} & x_{6} + x_{7} - x_{8} + x_{9} - x_{10} & -x_{8} - x_{10}\n",
       "\\end{array}\\right)\\right]$$"
      ],
      "text/plain": [
       "[[         -x1 + x2 - x3          -x1 + x2 + x4          -x2 - x4 - x5 x1 + x2 - x3 + x4 - x5               -x3 - x5],\n",
       " [          -x6 + x7 - x8           -x6 + x7 + x9          -x7 - x9 - x10 x6 + x7 - x8 + x9 - x10               -x8 - x10]]"
      ]
     },
     "metadata": {},
     "output_type": "display_data"
    },
    {
     "data": {
      "text/html": [
       "<html><script type=\"math/tex; mode=display\">\\newcommand{\\Bold}[1]{\\mathbf{#1}}1</script></html>"
      ],
      "text/latex": [
       "$$\\newcommand{\\Bold}[1]{\\mathbf{#1}}1$$"
      ],
      "text/plain": [
       "1"
      ]
     },
     "metadata": {},
     "output_type": "display_data"
    },
    {
     "data": {
      "text/html": [
       "<html><script type=\"math/tex; mode=display\">\\newcommand{\\Bold}[1]{\\mathbf{#1}}\\left[\\left(\\begin{array}{rrrrr}\n",
       "0 & 1 & 2 & 2 & 2 \\\\\n",
       "1 & 0 & 0 & 2 & 2 \\\\\n",
       "2 & 0 & 1 & 2 & 2 \\\\\n",
       "2 & 2 & 2 & 0 & 0 \\\\\n",
       "2 & 2 & 2 & 0 & 0\n",
       "\\end{array}\\right), \\left(\\begin{array}{rrrrr}\n",
       "2 & 2 & 0 & 2 & 2 \\\\\n",
       "2 & 0 & 1 & 0 & 0 \\\\\n",
       "0 & 1 & 1 & 1 & 1 \\\\\n",
       "2 & 0 & 1 & 0 & 0 \\\\\n",
       "2 & 0 & 1 & 0 & 0\n",
       "\\end{array}\\right)\\right]</script></html>"
      ],
      "text/latex": [
       "$$\\newcommand{\\Bold}[1]{\\mathbf{#1}}\\left[\\left(\\begin{array}{rrrrr}\n",
       "0 & 1 & 2 & 2 & 2 \\\\\n",
       "1 & 0 & 0 & 2 & 2 \\\\\n",
       "2 & 0 & 1 & 2 & 2 \\\\\n",
       "2 & 2 & 2 & 0 & 0 \\\\\n",
       "2 & 2 & 2 & 0 & 0\n",
       "\\end{array}\\right), \\left(\\begin{array}{rrrrr}\n",
       "2 & 2 & 0 & 2 & 2 \\\\\n",
       "2 & 0 & 1 & 0 & 0 \\\\\n",
       "0 & 1 & 1 & 1 & 1 \\\\\n",
       "2 & 0 & 1 & 0 & 0 \\\\\n",
       "2 & 0 & 1 & 0 & 0\n",
       "\\end{array}\\right)\\right]$$"
      ],
      "text/plain": [
       "[\n",
       "[ 0  1 -1 -1 -1]  [-1 -1  0 -1 -1]\n",
       "[ 1  0  0 -1 -1]  [-1  0  1  0  0]\n",
       "[-1  0  1 -1 -1]  [ 0  1  1  1  1]\n",
       "[-1 -1 -1  0  0]  [-1  0  1  0  0]\n",
       "[-1 -1 -1  0  0], [-1  0  1  0  0]\n",
       "]"
      ]
     },
     "metadata": {},
     "output_type": "display_data"
    },
    {
     "data": {
      "text/html": [
       "<html><script type=\"math/tex; mode=display\">\\newcommand{\\Bold}[1]{\\mathbf{#1}}\\left(\\begin{array}{rrrrr}\n",
       "-x_{1} + x_{2} - x_{3} & -x_{1} + x_{2} + x_{4} & -x_{2} - x_{4} - x_{5} & x_{1} + x_{2} - x_{3} + x_{4} - x_{5} & -x_{3} - x_{5}\n",
       "\\end{array}\\right)</script></html>"
      ],
      "text/latex": [
       "$$\\newcommand{\\Bold}[1]{\\mathbf{#1}}\\left(\\begin{array}{rrrrr}\n",
       "-x_{1} + x_{2} - x_{3} & -x_{1} + x_{2} + x_{4} & -x_{2} - x_{4} - x_{5} & x_{1} + x_{2} - x_{3} + x_{4} - x_{5} & -x_{3} - x_{5}\n",
       "\\end{array}\\right)$$"
      ],
      "text/plain": [
       "[         -x1 + x2 - x3          -x1 + x2 + x4          -x2 - x4 - x5 x1 + x2 - x3 + x4 - x5               -x3 - x5]"
      ]
     },
     "metadata": {},
     "output_type": "display_data"
    },
    {
     "data": {
      "text/html": [
       "<html><script type=\"math/tex; mode=display\">\\newcommand{\\Bold}[1]{\\mathbf{#1}}\\left(\\begin{array}{rrrrr}\n",
       "-x_{6} + x_{7} - x_{8} & -x_{6} + x_{7} + x_{9} & -x_{7} - x_{9} - x_{10} & x_{6} + x_{7} - x_{8} + x_{9} - x_{10} & -x_{8} - x_{10}\n",
       "\\end{array}\\right)</script></html>"
      ],
      "text/latex": [
       "$$\\newcommand{\\Bold}[1]{\\mathbf{#1}}\\left(\\begin{array}{rrrrr}\n",
       "-x_{6} + x_{7} - x_{8} & -x_{6} + x_{7} + x_{9} & -x_{7} - x_{9} - x_{10} & x_{6} + x_{7} - x_{8} + x_{9} - x_{10} & -x_{8} - x_{10}\n",
       "\\end{array}\\right)$$"
      ],
      "text/plain": [
       "[          -x6 + x7 - x8           -x6 + x7 + x9          -x7 - x9 - x10 x6 + x7 - x8 + x9 - x10               -x8 - x10]"
      ]
     },
     "metadata": {},
     "output_type": "display_data"
    },
    {
     "name": "stdout",
     "output_type": "stream",
     "text": [
      "This is Pk_list----->\n"
     ]
    },
    {
     "data": {
      "text/html": [
       "<html><script type=\"math/tex; mode=display\">\\newcommand{\\Bold}[1]{\\mathbf{#1}}\\left[\\left(\\begin{array}{r}\n",
       "x_{1}^{2} - x_{2}^{2} + x_{2} x_{3} - x_{3}^{2} - x_{1} x_{4} + x_{2} x_{4} + x_{3} x_{4} + x_{1} x_{5} + x_{4} x_{5} + x_{5}^{2} \\\\\n",
       "x_{1}^{2} + x_{1} x_{2} - x_{2}^{2} + x_{1} x_{3} - x_{2} x_{3} - x_{1} x_{4} - x_{4}^{2} - x_{2} x_{5} + x_{3} x_{5} + x_{5}^{2}\n",
       "\\end{array}\\right), \\left(\\begin{array}{r}\n",
       "x_{6}^{2} - x_{7}^{2} + x_{7} x_{8} - x_{8}^{2} - x_{6} x_{9} + x_{7} x_{9} + x_{8} x_{9} + x_{6} x_{10} + x_{9} x_{10} + x_{10}^{2} \\\\\n",
       "x_{6}^{2} + x_{6} x_{7} - x_{7}^{2} + x_{6} x_{8} - x_{7} x_{8} - x_{6} x_{9} - x_{9}^{2} - x_{7} x_{10} + x_{8} x_{10} + x_{10}^{2}\n",
       "\\end{array}\\right)\\right]</script></html>"
      ],
      "text/latex": [
       "$$\\newcommand{\\Bold}[1]{\\mathbf{#1}}\\left[\\left(\\begin{array}{r}\n",
       "x_{1}^{2} - x_{2}^{2} + x_{2} x_{3} - x_{3}^{2} - x_{1} x_{4} + x_{2} x_{4} + x_{3} x_{4} + x_{1} x_{5} + x_{4} x_{5} + x_{5}^{2} \\\\\n",
       "x_{1}^{2} + x_{1} x_{2} - x_{2}^{2} + x_{1} x_{3} - x_{2} x_{3} - x_{1} x_{4} - x_{4}^{2} - x_{2} x_{5} + x_{3} x_{5} + x_{5}^{2}\n",
       "\\end{array}\\right), \\left(\\begin{array}{r}\n",
       "x_{6}^{2} - x_{7}^{2} + x_{7} x_{8} - x_{8}^{2} - x_{6} x_{9} + x_{7} x_{9} + x_{8} x_{9} + x_{6} x_{10} + x_{9} x_{10} + x_{10}^{2} \\\\\n",
       "x_{6}^{2} + x_{6} x_{7} - x_{7}^{2} + x_{6} x_{8} - x_{7} x_{8} - x_{6} x_{9} - x_{9}^{2} - x_{7} x_{10} + x_{8} x_{10} + x_{10}^{2}\n",
       "\\end{array}\\right)\\right]$$"
      ],
      "text/plain": [
       "[\n",
       "[x1^2 - x2^2 + x2*x3 - x3^2 - x1*x4 + x2*x4 + x3*x4 + x1*x5 + x4*x5 + x5^2]  [x6^2 - x7^2 + x7*x8 - x8^2 - x6*x9 + x7*x9 + x8*x9 + x6*x10 + x9*x10 + x10^2]\n",
       "[x1^2 + x1*x2 - x2^2 + x1*x3 - x2*x3 - x1*x4 - x4^2 - x2*x5 + x3*x5 + x5^2], [x6^2 + x6*x7 - x7^2 + x6*x8 - x7*x8 - x6*x9 - x9^2 - x7*x10 + x8*x10 + x10^2]\n",
       "]"
      ]
     },
     "metadata": {},
     "output_type": "display_data"
    },
    {
     "name": "stdout",
     "output_type": "stream",
     "text": [
      "This is Pk_list with polar form--->\n"
     ]
    },
    {
     "data": {
      "text/html": [
       "<html><script type=\"math/tex; mode=display\">\\newcommand{\\Bold}[1]{\\mathbf{#1}}\\left[\\left(\\begin{array}{r}\n",
       "x_{1}^{2} - x_{2}^{2} + x_{2} x_{3} - x_{3}^{2} - x_{1} x_{4} + x_{2} x_{4} + x_{3} x_{4} + x_{1} x_{5} + x_{4} x_{5} + x_{5}^{2} \\\\\n",
       "x_{1}^{2} + x_{1} x_{2} - x_{2}^{2} + x_{1} x_{3} - x_{2} x_{3} - x_{1} x_{4} - x_{4}^{2} - x_{2} x_{5} + x_{3} x_{5} + x_{5}^{2}\n",
       "\\end{array}\\right), \\left(\\begin{array}{r}\n",
       "x_{6}^{2} - x_{7}^{2} + x_{7} x_{8} - x_{8}^{2} - x_{6} x_{9} + x_{7} x_{9} + x_{8} x_{9} + x_{6} x_{10} + x_{9} x_{10} + x_{10}^{2} \\\\\n",
       "x_{6}^{2} + x_{6} x_{7} - x_{7}^{2} + x_{6} x_{8} - x_{7} x_{8} - x_{6} x_{9} - x_{9}^{2} - x_{7} x_{10} + x_{8} x_{10} + x_{10}^{2}\n",
       "\\end{array}\\right), \\left(\\begin{array}{r}\n",
       "-x_{1} x_{6} - x_{4} x_{6} + x_{5} x_{6} + x_{2} x_{7} + x_{3} x_{7} + x_{4} x_{7} + x_{2} x_{8} + x_{3} x_{8} + x_{4} x_{8} - x_{1} x_{9} + x_{2} x_{9} + x_{3} x_{9} + x_{5} x_{9} + x_{1} x_{10} + x_{4} x_{10} - x_{5} x_{10} \\\\\n",
       "-x_{1} x_{6} + x_{2} x_{6} + x_{3} x_{6} - x_{4} x_{6} + x_{1} x_{7} + x_{2} x_{7} - x_{3} x_{7} - x_{5} x_{7} + x_{1} x_{8} - x_{2} x_{8} + x_{5} x_{8} - x_{1} x_{9} + x_{4} x_{9} - x_{2} x_{10} + x_{3} x_{10} - x_{5} x_{10}\n",
       "\\end{array}\\right)\\right]</script></html>"
      ],
      "text/latex": [
       "$$\\newcommand{\\Bold}[1]{\\mathbf{#1}}\\left[\\left(\\begin{array}{r}\n",
       "x_{1}^{2} - x_{2}^{2} + x_{2} x_{3} - x_{3}^{2} - x_{1} x_{4} + x_{2} x_{4} + x_{3} x_{4} + x_{1} x_{5} + x_{4} x_{5} + x_{5}^{2} \\\\\n",
       "x_{1}^{2} + x_{1} x_{2} - x_{2}^{2} + x_{1} x_{3} - x_{2} x_{3} - x_{1} x_{4} - x_{4}^{2} - x_{2} x_{5} + x_{3} x_{5} + x_{5}^{2}\n",
       "\\end{array}\\right), \\left(\\begin{array}{r}\n",
       "x_{6}^{2} - x_{7}^{2} + x_{7} x_{8} - x_{8}^{2} - x_{6} x_{9} + x_{7} x_{9} + x_{8} x_{9} + x_{6} x_{10} + x_{9} x_{10} + x_{10}^{2} \\\\\n",
       "x_{6}^{2} + x_{6} x_{7} - x_{7}^{2} + x_{6} x_{8} - x_{7} x_{8} - x_{6} x_{9} - x_{9}^{2} - x_{7} x_{10} + x_{8} x_{10} + x_{10}^{2}\n",
       "\\end{array}\\right), \\left(\\begin{array}{r}\n",
       "-x_{1} x_{6} - x_{4} x_{6} + x_{5} x_{6} + x_{2} x_{7} + x_{3} x_{7} + x_{4} x_{7} + x_{2} x_{8} + x_{3} x_{8} + x_{4} x_{8} - x_{1} x_{9} + x_{2} x_{9} + x_{3} x_{9} + x_{5} x_{9} + x_{1} x_{10} + x_{4} x_{10} - x_{5} x_{10} \\\\\n",
       "-x_{1} x_{6} + x_{2} x_{6} + x_{3} x_{6} - x_{4} x_{6} + x_{1} x_{7} + x_{2} x_{7} - x_{3} x_{7} - x_{5} x_{7} + x_{1} x_{8} - x_{2} x_{8} + x_{5} x_{8} - x_{1} x_{9} + x_{4} x_{9} - x_{2} x_{10} + x_{3} x_{10} - x_{5} x_{10}\n",
       "\\end{array}\\right)\\right]$$"
      ],
      "text/plain": [
       "[\n",
       "[x1^2 - x2^2 + x2*x3 - x3^2 - x1*x4 + x2*x4 + x3*x4 + x1*x5 + x4*x5 + x5^2]  [x6^2 - x7^2 + x7*x8 - x8^2 - x6*x9 + x7*x9 + x8*x9 + x6*x10 + x9*x10 + x10^2]  [-x1*x6 - x4*x6 + x5*x6 + x2*x7 + x3*x7 + x4*x7 + x2*x8 + x3*x8 + x4*x8 - x1*x9 + x2*x9 + x3*x9 + x5*x9 + x1*x10 + x4*x10 - x5*x10]\n",
       "[x1^2 + x1*x2 - x2^2 + x1*x3 - x2*x3 - x1*x4 - x4^2 - x2*x5 + x3*x5 + x5^2], [x6^2 + x6*x7 - x7^2 + x6*x8 - x7*x8 - x6*x9 - x9^2 - x7*x10 + x8*x10 + x10^2], [-x1*x6 + x2*x6 + x3*x6 - x4*x6 + x1*x7 + x2*x7 - x3*x7 - x5*x7 + x1*x8 - x2*x8 + x5*x8 - x1*x9 + x4*x9 - x2*x10 + x3*x10 - x5*x10]\n",
       "]"
      ]
     },
     "metadata": {},
     "output_type": "display_data"
    },
    {
     "name": "stdout",
     "output_type": "stream",
     "text": [
      "This is E_list---->\n"
     ]
    },
    {
     "data": {
      "text/html": [
       "<html><script type=\"math/tex; mode=display\">\\newcommand{\\Bold}[1]{\\mathbf{#1}}\\left[\\left(\\begin{array}{rr}\n",
       "0 & 2 \\\\\n",
       "1 & 0\n",
       "\\end{array}\\right), \\left(\\begin{array}{rr}\n",
       "2 & 1 \\\\\n",
       "0 & 2\n",
       "\\end{array}\\right), \\left(\\begin{array}{rr}\n",
       "2 & 2 \\\\\n",
       "0 & 2\n",
       "\\end{array}\\right)\\right]</script></html>"
      ],
      "text/latex": [
       "$$\\newcommand{\\Bold}[1]{\\mathbf{#1}}\\left[\\left(\\begin{array}{rr}\n",
       "0 & 2 \\\\\n",
       "1 & 0\n",
       "\\end{array}\\right), \\left(\\begin{array}{rr}\n",
       "2 & 1 \\\\\n",
       "0 & 2\n",
       "\\end{array}\\right), \\left(\\begin{array}{rr}\n",
       "2 & 2 \\\\\n",
       "0 & 2\n",
       "\\end{array}\\right)\\right]$$"
      ],
      "text/plain": [
       "[\n",
       "[ 0 -1]  [-1  1]  [-1 -1]\n",
       "[ 1  0], [ 0 -1], [ 0 -1]\n",
       "]"
      ]
     },
     "metadata": {},
     "output_type": "display_data"
    },
    {
     "name": "stdout",
     "output_type": "stream",
     "text": [
      "------PUBLIC KEY-----------\n"
     ]
    },
    {
     "data": {
      "text/html": [
       "<html><script type=\"math/tex; mode=display\">\\newcommand{\\Bold}[1]{\\mathbf{#1}}\\left(\\begin{array}{r}\n",
       "-x_{1}^{2} - x_{1} x_{2} + x_{2}^{2} - x_{1} x_{3} + x_{2} x_{3} + x_{1} x_{4} + x_{4}^{2} + x_{2} x_{5} - x_{3} x_{5} - x_{5}^{2} - x_{1} x_{6} - x_{2} x_{6} - x_{3} x_{6} - x_{4} x_{6} - x_{5} x_{6} - x_{1} x_{7} + x_{2} x_{7} - x_{4} x_{7} + x_{5} x_{7} + x_{6} x_{7} - x_{1} x_{8} - x_{3} x_{8} - x_{4} x_{8} - x_{5} x_{8} + x_{6} x_{8} + x_{7} x_{8} + x_{8}^{2} - x_{1} x_{9} - x_{2} x_{9} - x_{3} x_{9} - x_{4} x_{9} - x_{5} x_{9} - x_{7} x_{9} - x_{8} x_{9} - x_{9}^{2} - x_{1} x_{10} + x_{2} x_{10} - x_{3} x_{10} - x_{4} x_{10} - x_{5} x_{10} - x_{6} x_{10} - x_{7} x_{10} + x_{8} x_{10} - x_{9} x_{10} \\\\\n",
       "x_{1}^{2} - x_{2}^{2} + x_{2} x_{3} - x_{3}^{2} - x_{1} x_{4} + x_{2} x_{4} + x_{3} x_{4} + x_{1} x_{5} + x_{4} x_{5} + x_{5}^{2} + x_{1} x_{6} - x_{2} x_{6} - x_{3} x_{6} + x_{4} x_{6} - x_{6}^{2} - x_{1} x_{7} - x_{2} x_{7} + x_{3} x_{7} + x_{5} x_{7} - x_{6} x_{7} + x_{7}^{2} - x_{1} x_{8} + x_{2} x_{8} - x_{5} x_{8} - x_{6} x_{8} + x_{7} x_{8} + x_{1} x_{9} - x_{4} x_{9} + x_{6} x_{9} + x_{9}^{2} + x_{2} x_{10} - x_{3} x_{10} + x_{5} x_{10} + x_{7} x_{10} - x_{8} x_{10} - x_{10}^{2}\n",
       "\\end{array}\\right)</script></html>"
      ],
      "text/latex": [
       "$$\\newcommand{\\Bold}[1]{\\mathbf{#1}}\\left(\\begin{array}{r}\n",
       "-x_{1}^{2} - x_{1} x_{2} + x_{2}^{2} - x_{1} x_{3} + x_{2} x_{3} + x_{1} x_{4} + x_{4}^{2} + x_{2} x_{5} - x_{3} x_{5} - x_{5}^{2} - x_{1} x_{6} - x_{2} x_{6} - x_{3} x_{6} - x_{4} x_{6} - x_{5} x_{6} - x_{1} x_{7} + x_{2} x_{7} - x_{4} x_{7} + x_{5} x_{7} + x_{6} x_{7} - x_{1} x_{8} - x_{3} x_{8} - x_{4} x_{8} - x_{5} x_{8} + x_{6} x_{8} + x_{7} x_{8} + x_{8}^{2} - x_{1} x_{9} - x_{2} x_{9} - x_{3} x_{9} - x_{4} x_{9} - x_{5} x_{9} - x_{7} x_{9} - x_{8} x_{9} - x_{9}^{2} - x_{1} x_{10} + x_{2} x_{10} - x_{3} x_{10} - x_{4} x_{10} - x_{5} x_{10} - x_{6} x_{10} - x_{7} x_{10} + x_{8} x_{10} - x_{9} x_{10} \\\\\n",
       "x_{1}^{2} - x_{2}^{2} + x_{2} x_{3} - x_{3}^{2} - x_{1} x_{4} + x_{2} x_{4} + x_{3} x_{4} + x_{1} x_{5} + x_{4} x_{5} + x_{5}^{2} + x_{1} x_{6} - x_{2} x_{6} - x_{3} x_{6} + x_{4} x_{6} - x_{6}^{2} - x_{1} x_{7} - x_{2} x_{7} + x_{3} x_{7} + x_{5} x_{7} - x_{6} x_{7} + x_{7}^{2} - x_{1} x_{8} + x_{2} x_{8} - x_{5} x_{8} - x_{6} x_{8} + x_{7} x_{8} + x_{1} x_{9} - x_{4} x_{9} + x_{6} x_{9} + x_{9}^{2} + x_{2} x_{10} - x_{3} x_{10} + x_{5} x_{10} + x_{7} x_{10} - x_{8} x_{10} - x_{10}^{2}\n",
       "\\end{array}\\right)$$"
      ],
      "text/plain": [
       "[-x1^2 - x1*x2 + x2^2 - x1*x3 + x2*x3 + x1*x4 + x4^2 + x2*x5 - x3*x5 - x5^2 - x1*x6 - x2*x6 - x3*x6 - x4*x6 - x5*x6 - x1*x7 + x2*x7 - x4*x7 + x5*x7 + x6*x7 - x1*x8 - x3*x8 - x4*x8 - x5*x8 + x6*x8 + x7*x8 + x8^2 - x1*x9 - x2*x9 - x3*x9 - x4*x9 - x5*x9 - x7*x9 - x8*x9 - x9^2 - x1*x10 + x2*x10 - x3*x10 - x4*x10 - x5*x10 - x6*x10 - x7*x10 + x8*x10 - x9*x10]\n",
       "[                                                                      x1^2 - x2^2 + x2*x3 - x3^2 - x1*x4 + x2*x4 + x3*x4 + x1*x5 + x4*x5 + x5^2 + x1*x6 - x2*x6 - x3*x6 + x4*x6 - x6^2 - x1*x7 - x2*x7 + x3*x7 + x5*x7 - x6*x7 + x7^2 - x1*x8 + x2*x8 - x5*x8 - x6*x8 + x7*x8 + x1*x9 - x4*x9 + x6*x9 + x9^2 + x2*x10 - x3*x10 + x5*x10 + x7*x10 - x8*x10 - x10^2]"
      ]
     },
     "metadata": {},
     "output_type": "display_data"
    },
    {
     "name": "stdout",
     "output_type": "stream",
     "text": [
      "This is the message-> [2 0]\n"
     ]
    },
    {
     "data": {
      "text/html": [
       "<html><script type=\"math/tex; mode=display\">\\newcommand{\\Bold}[1]{\\mathbf{#1}}\\left(\\begin{array}{r}\n",
       "x_{4} + x_{5} - x_{9} - x_{10} + 2 \\\\\n",
       "x_{4} + x_{5} + x_{9} + x_{10} + 1\n",
       "\\end{array}\\right)</script></html>"
      ],
      "text/latex": [
       "$$\\newcommand{\\Bold}[1]{\\mathbf{#1}}\\left(\\begin{array}{r}\n",
       "x_{4} + x_{5} - x_{9} - x_{10} + 2 \\\\\n",
       "x_{4} + x_{5} + x_{9} + x_{10} + 1\n",
       "\\end{array}\\right)$$"
      ],
      "text/plain": [
       "[x4 + x5 - x9 - x10 - 1]\n",
       "[x4 + x5 + x9 + x10 + 1]"
      ]
     },
     "metadata": {},
     "output_type": "display_data"
    },
    {
     "data": {
      "text/html": [
       "<html><script type=\"math/tex; mode=display\">\\newcommand{\\Bold}[1]{\\mathbf{#1}}\\left(\\begin{array}{rrrrr}\n",
       "1 & 1 & 2 & 2 & 0 \\\\\n",
       "1 & 1 & 1 & 1 & 2\n",
       "\\end{array}\\right)</script></html>"
      ],
      "text/latex": [
       "$$\\newcommand{\\Bold}[1]{\\mathbf{#1}}\\left(\\begin{array}{rrrrr}\n",
       "1 & 1 & 2 & 2 & 0 \\\\\n",
       "1 & 1 & 1 & 1 & 2\n",
       "\\end{array}\\right)$$"
      ],
      "text/plain": [
       "[1 1 2 2 0]\n",
       "[1 1 1 1 2]"
      ]
     },
     "metadata": {},
     "output_type": "display_data"
    },
    {
     "data": {
      "text/html": [
       "<html><script type=\"math/tex; mode=display\">\\newcommand{\\Bold}[1]{\\mathbf{#1}}\\left(\\begin{array}{rrrrr}\n",
       "1 & 1 & 0 & 0 & 1 \\\\\n",
       "0 & 0 & 1 & 1 & 1\n",
       "\\end{array}\\right)</script></html>"
      ],
      "text/latex": [
       "$$\\newcommand{\\Bold}[1]{\\mathbf{#1}}\\left(\\begin{array}{rrrrr}\n",
       "1 & 1 & 0 & 0 & 1 \\\\\n",
       "0 & 0 & 1 & 1 & 1\n",
       "\\end{array}\\right)$$"
      ],
      "text/plain": [
       "[1 1 0 0 1]\n",
       "[0 0 1 1 1]"
      ]
     },
     "metadata": {},
     "output_type": "display_data"
    },
    {
     "name": "stdout",
     "output_type": "stream",
     "text": [
      "This is z_list--->\n"
     ]
    },
    {
     "data": {
      "text/html": [
       "<html><script type=\"math/tex; mode=display\">\\newcommand{\\Bold}[1]{\\mathbf{#1}}\\left[1, 0, 1, 0\\right]</script></html>"
      ],
      "text/latex": [
       "$$\\newcommand{\\Bold}[1]{\\mathbf{#1}}\\left[1, 0, 1, 0\\right]$$"
      ],
      "text/plain": [
       "[1, 0, 1, 0]"
      ]
     },
     "metadata": {},
     "output_type": "display_data"
    },
    {
     "data": {
      "text/html": [
       "<html><script type=\"math/tex; mode=display\">\\newcommand{\\Bold}[1]{\\mathbf{#1}}\\left[\\left[1, 1, 1, 1, 0\\right], \\left[1, 2, 1, 1, 0\\right]\\right]</script></html>"
      ],
      "text/latex": [
       "$$\\newcommand{\\Bold}[1]{\\mathbf{#1}}\\left[\\left[1, 1, 1, 1, 0\\right], \\left[1, 2, 1, 1, 0\\right]\\right]$$"
      ],
      "text/plain": [
       "[[1, 1, 1, 1, 0], [1, -1, 1, 1, 0]]"
      ]
     },
     "metadata": {},
     "output_type": "display_data"
    },
    {
     "data": {
      "text/html": [
       "<html><script type=\"math/tex; mode=display\">\\newcommand{\\Bold}[1]{\\mathbf{#1}}\\left[\\left(\\begin{array}{rrrrr}\n",
       "1 & 1 & 1 & 1 & 0\n",
       "\\end{array}\\right), \\left(\\begin{array}{rrrrr}\n",
       "1 & 2 & 1 & 1 & 0\n",
       "\\end{array}\\right)\\right]</script></html>"
      ],
      "text/latex": [
       "$$\\newcommand{\\Bold}[1]{\\mathbf{#1}}\\left[\\left(\\begin{array}{rrrrr}\n",
       "1 & 1 & 1 & 1 & 0\n",
       "\\end{array}\\right), \\left(\\begin{array}{rrrrr}\n",
       "1 & 2 & 1 & 1 & 0\n",
       "\\end{array}\\right)\\right]$$"
      ],
      "text/plain": [
       "[[1 1 1 1 0], [ 1 -1  1  1  0]]"
      ]
     },
     "metadata": {},
     "output_type": "display_data"
    },
    {
     "name": "stdout",
     "output_type": "stream",
     "text": [
      "This is the signature----->\n"
     ]
    },
    {
     "data": {
      "text/html": [
       "<html><script type=\"math/tex; mode=display\">\\newcommand{\\Bold}[1]{\\mathbf{#1}}\\left[\\left(\\begin{array}{rrrrr}\n",
       "0 & 0 & 2 & 1 & 1\n",
       "\\end{array}\\right), \\left(\\begin{array}{rrrrr}\n",
       "1 & 0 & 1 & 0 & 2\n",
       "\\end{array}\\right)\\right]</script></html>"
      ],
      "text/latex": [
       "$$\\newcommand{\\Bold}[1]{\\mathbf{#1}}\\left[\\left(\\begin{array}{rrrrr}\n",
       "0 & 0 & 2 & 1 & 1\n",
       "\\end{array}\\right), \\left(\\begin{array}{rrrrr}\n",
       "1 & 0 & 1 & 0 & 2\n",
       "\\end{array}\\right)\\right]$$"
      ],
      "text/plain": [
       "[[ 0  0 -1  1  1], [ 1  0  1  0 -1]]"
      ]
     },
     "metadata": {},
     "output_type": "display_data"
    },
    {
     "data": {
      "text/html": [
       "<html><script type=\"math/tex; mode=display\">\\newcommand{\\Bold}[1]{\\mathbf{#1}}\\left(\\begin{array}{rrrrr}\n",
       "1 & 1 & 1 & 1 & 0\n",
       "\\end{array}\\right)</script></html>"
      ],
      "text/latex": [
       "$$\\newcommand{\\Bold}[1]{\\mathbf{#1}}\\left(\\begin{array}{rrrrr}\n",
       "1 & 1 & 1 & 1 & 0\n",
       "\\end{array}\\right)$$"
      ],
      "text/plain": [
       "[1 1 1 1 0]"
      ]
     },
     "metadata": {},
     "output_type": "display_data"
    },
    {
     "data": {
      "text/html": [
       "<html><script type=\"math/tex; mode=display\">\\newcommand{\\Bold}[1]{\\mathbf{#1}}\\left(\\begin{array}{rrrrr}\n",
       "1 & 2 & 1 & 1 & 0\n",
       "\\end{array}\\right)</script></html>"
      ],
      "text/latex": [
       "$$\\newcommand{\\Bold}[1]{\\mathbf{#1}}\\left(\\begin{array}{rrrrr}\n",
       "1 & 2 & 1 & 1 & 0\n",
       "\\end{array}\\right)$$"
      ],
      "text/plain": [
       "[ 1 -1  1  1  0]"
      ]
     },
     "metadata": {},
     "output_type": "display_data"
    },
    {
     "name": "stdout",
     "output_type": "stream",
     "text": [
      "This is pk_list----->\n"
     ]
    },
    {
     "data": {
      "text/html": [
       "<html><script type=\"math/tex; mode=display\">\\newcommand{\\Bold}[1]{\\mathbf{#1}}\\left[\\left(\\begin{array}{r}\n",
       "0 \\\\\n",
       "2\n",
       "\\end{array}\\right), \\left(\\begin{array}{r}\n",
       "0 \\\\\n",
       "2\n",
       "\\end{array}\\right), \\left(\\begin{array}{r}\n",
       "0 \\\\\n",
       "1\n",
       "\\end{array}\\right)\\right]</script></html>"
      ],
      "text/latex": [
       "$$\\newcommand{\\Bold}[1]{\\mathbf{#1}}\\left[\\left(\\begin{array}{r}\n",
       "0 \\\\\n",
       "2\n",
       "\\end{array}\\right), \\left(\\begin{array}{r}\n",
       "0 \\\\\n",
       "2\n",
       "\\end{array}\\right), \\left(\\begin{array}{r}\n",
       "0 \\\\\n",
       "1\n",
       "\\end{array}\\right)\\right]$$"
      ],
      "text/plain": [
       "[\n",
       "[ 0]  [ 0]  [0]\n",
       "[-1], [-1], [1]\n",
       "]"
      ]
     },
     "metadata": {},
     "output_type": "display_data"
    },
    {
     "name": "stdout",
     "output_type": "stream",
     "text": [
      "Signature Verifies!\n"
     ]
    },
    {
     "data": {
      "text/html": [
       "<html><script type=\"math/tex; mode=display\">\\newcommand{\\Bold}[1]{\\mathbf{#1}}\\left(\\begin{array}{r}\n",
       "2 \\\\\n",
       "0\n",
       "\\end{array}\\right)</script></html>"
      ],
      "text/latex": [
       "$$\\newcommand{\\Bold}[1]{\\mathbf{#1}}\\left(\\begin{array}{r}\n",
       "2 \\\\\n",
       "0\n",
       "\\end{array}\\right)$$"
      ],
      "text/plain": [
       "[-1]\n",
       "[ 0]"
      ]
     },
     "metadata": {},
     "output_type": "display_data"
    }
   ],
   "source": [
    "p = 5  #length of input of P\n",
    "k = 2  #number of xk's\n",
    "q = 3  #mod\n",
    "m = 2 # number of equations in P\n",
    "v = 3 # number of vingegar in f_k\n",
    "o = p - v #number of oil in f_k\n",
    "F = GF(q)\n",
    "\n",
    "pVar_list = []\n",
    "for g in range(k*p):\n",
    "    pVar_list.append('x' + str(g + 1))\n",
    "\n",
    "R = PolynomialRing(F, names = pVar_list)\n",
    "\n",
    "mVar_list = []\n",
    "for u in range(k):\n",
    "    mVar_list.append(0)\n",
    "\n",
    "###-m-equations-in-n-variables------------------------\n",
    "\n",
    "for t in range(k):\n",
    "    tempVar_list = []\n",
    "    for h in range(t*p,(t+1)*p):\n",
    "        v = pVar_list[h]\n",
    "        tempVar_list.append(v)\n",
    "    show(tempVar_list)\n",
    "    show(t)\n",
    "    mVar_list[t] = Matrix(R, 1, p, tempVar_list)\n",
    "    \n",
    "for Q in mVar_list:\n",
    "    show(Q)\n",
    "\n",
    "#########################################################\n",
    "\n",
    "U = random_matrix(F,p,p)\n",
    "while rank(U) < p:\n",
    "    U = random_matrix(F,p,p)\n",
    "print(\"U=\")\n",
    "show(U)\n",
    "\n",
    "##T\n",
    "T = random_matrix(F,m,m)\n",
    "while rank(T) < m:\n",
    "    T = random_matrix(F,m,m)\n",
    "print(\"T=\")\n",
    "show(T)\n",
    "\n",
    "U_inv = U^(-1)\n",
    "#####\n",
    "                                  \n",
    "xU_list = [0 for c in range(k)]\n",
    "show(xU_list)\n",
    "\n",
    "print(\"This is xU list\")\n",
    "for t in range(k):\n",
    "    xU_list[t] = (mVar_list[t]*(U.change_ring(R)))\n",
    "\n",
    "show(xU_list)\n",
    "show(t)  \n",
    "#--------------------------\n",
    "p = 5  #length of input of P\n",
    "k = 2  #number of xk's\n",
    "q = 3  #mod\n",
    "m = 2 # number of equations in P\n",
    "v = 3 # number of vingegar in f_k\n",
    "o = p - v #number of oil in f_k\n",
    "F = GF(q)\n",
    "#--------------------------\n",
    "f_list = []\n",
    "for w in range(m):\n",
    "    f = random_matrix(F,v,p)\n",
    "    f = f.change_ring(R)\n",
    "    f = f.stack(matrix(R,o,p,0))\n",
    "    f = f + f.transpose()\n",
    "    f_list.append(f)\n",
    "\n",
    "show(f_list)\n",
    "\n",
    "Pk_list = [0 for c in range(k)]\n",
    "for t in range(k):\n",
    "    xU = xU_list[t]\n",
    "    show(xU)\n",
    "    \n",
    "    tmp = xU*f_list[0]*xU.transpose()\n",
    "    for r in range(m-1):\n",
    "        tmp = tmp.stack(xU*f_list[r+1]*xU.transpose())\n",
    "    Pk_list[t] = T.change_ring(R)*(tmp)\n",
    "print(\"This is Pk_list----->\")\n",
    "show(Pk_list)\n",
    "\n",
    "##############Polar Form####################\n",
    "tmp_list = xU_list.copy()\n",
    "e = k\n",
    "for i in range(k):\n",
    "    tmp_val = tmp_list[0]\n",
    "    tmp_list.pop(0)\n",
    "    #show(tmp_list)\n",
    "    e = e - 1\n",
    "    \n",
    "    for j in range(e):\n",
    "        po_0 = tmp_val + tmp_list[0]\n",
    "        po_1 = tmp_val\n",
    "        po_2 = tmp_list[0]\n",
    "        pol_tmp = (po_0*f_list[0]*po_0.transpose()) - (po_1*f_list[0]*po_1.transpose()) - (po_2*f_list[0]*po_2.transpose())\n",
    "    \n",
    "        for r in range(m-1):\n",
    "            pol_tmp = pol_tmp.stack((po_0*f_list[r+1]*po_0.transpose()) - (po_1*f_list[r+1]*po_1.transpose()) - (po_2*f_list[r+1])*po_2.transpose())\n",
    "        Pk_list.append(T.change_ring(R)*(pol_tmp))\n",
    "    \n",
    "print(\"This is Pk_list with polar form--->\")        \n",
    "show(Pk_list)\n",
    "##############\n",
    "#k = 2\n",
    "num = k + binomial(k,2)\n",
    "E_list = []\n",
    "for n in range(num):\n",
    "    E = random_matrix(F,m,m)\n",
    "    while rank(E) < m:\n",
    "        E = random_matrix(F,m,m)\n",
    "    E_list.append(E.change_ring(R))\n",
    "\n",
    "print(\"This is E_list---->\")\n",
    "show(E_list)\n",
    "\n",
    "#-----Public Key------------\n",
    "print(\"------PUBLIC KEY-----------\")\n",
    "pk_sum = E_list[0]*Pk_list[0]\n",
    "for i in range(num - 1):\n",
    "    pk_sum = pk_sum + E_list[i+1]*Pk_list[i+1]\n",
    "\n",
    "show(pk_sum)\n",
    "\n",
    "#------------------------------Signing------------------\n",
    "\n",
    "y = random_matrix(F,1,m)\n",
    "print(\"This is the message->\",y)\n",
    "\n",
    "stop = 0\n",
    "iter = 0\n",
    "while (not stop) and iter<=1000:\n",
    "    iter +=1\n",
    "\n",
    "    vin_list = []\n",
    "    for w in mVar_list:\n",
    "        vin_list.append(w.coefficients())\n",
    "\n",
    "    for i in range(k):\n",
    "        for j in range(v):\n",
    "            vin_list[i][j] = F.random_element()\n",
    "\n",
    "    for i in range(k):\n",
    "        vin_list[i] = Matrix(R, 1, p, vin_list[i])\n",
    "\n",
    "    Pk_vin = [0 for c in range(k)]\n",
    "    for t in range(k):\n",
    "        xU = vin_list[t]\n",
    "        #show(xU)\n",
    "    \n",
    "        tmp = xU*f_list[0]*xU.transpose()\n",
    "        for r in range(m-1):\n",
    "            tmp = tmp.stack(xU*f_list[r+1]*xU.transpose())\n",
    "        #Pk_list[t] = T.change_ring(R)*((xU*f1*xU.transpose()).stack(xU*f2*xU.transpose())) \n",
    "        Pk_vin[t] = T.change_ring(R)*(tmp)\n",
    "\n",
    "    tmp_list = vin_list.copy()\n",
    "    e = k\n",
    "    for i in range(k):\n",
    "        tmp_val = tmp_list[0]\n",
    "        tmp_list.pop(0)\n",
    "        #show(tmp_list)\n",
    "        e = e - 1\n",
    "    \n",
    "        for j in range(e):\n",
    "            po_0 = tmp_val + tmp_list[0]\n",
    "            po_1 = tmp_val\n",
    "            po_2 = tmp_list[0]\n",
    "            pol_tmp = (po_0*f_list[0]*po_0.transpose()) - (po_1*f_list[0]*po_1.transpose()) - (po_2*f_list[0]*po_2.transpose())\n",
    "    \n",
    "            for r in range(m-1):\n",
    "                pol_tmp = pol_tmp.stack((po_0*f_list[r+1]*po_0.transpose()) - (po_1*f_list[r+1]*po_1.transpose()) - (po_2*f_list[r+1])*po_2.transpose())\n",
    "            Pk_vin.append(T.change_ring(R)*(pol_tmp))\n",
    "    \n",
    "    #print(\"This is Pk_vin with polar form--->\")        \n",
    "    #show(Pk_vin)\n",
    "    \n",
    "    #-----Public Key Inputted------------\n",
    "    #print(\"------PUBLIC KEY Inputted-----------\")\n",
    "    pk_vin = E_list[0]*Pk_vin[0]\n",
    "    for i in range(num - 1):\n",
    "        pk_vin = pk_vin + E_list[i+1]*Pk_vin[i+1]\n",
    "\n",
    "    ############\n",
    "\n",
    "    list_s = [(pk_vin[0,0]).coefficients()]\n",
    "    for i in range(m - 1):\n",
    "        list_s.append(pk_vin[i + 1,0].coefficients())\n",
    "\n",
    "\n",
    "    RHS = y\n",
    "    chk_len = k*o + 1\n",
    "    i_val = 0\n",
    "    bool_val = 0\n",
    "    while len(list_s[i_val]) == chk_len and bool_val < m:\n",
    "        bool_val = bool_val + 1\n",
    "        if i_val < m - 1:\n",
    "            i_val = i_val + 1\n",
    "    \n",
    "    if bool_val < m:\n",
    "        continue\n",
    "    \n",
    "    #print(\"------PUBLIC KEY Inputted-----------\")\n",
    "    \n",
    "    const_list = [0 for j in range(m)]\n",
    "    for i in range(m):\n",
    "        const_list[i] = list_s[i][chk_len-1]\n",
    "    \n",
    "    ####--Rewrite matrix with solution column--\n",
    "    mat_list = []\n",
    "    for t in range(m):\n",
    "        j = 0\n",
    "        while j < k*o:\n",
    "            mat_list.append(list_s[t][j])\n",
    "            j = j + 1\n",
    "        mat_list.append(RHS[0][t]-const_list[t])\n",
    "    \n",
    "    M = Matrix(F,m,chk_len,mat_list)\n",
    "\n",
    "    EchF = M.echelon_form()\n",
    "    if EchF[m-1,k*o-1] == 0:\n",
    "        continue\n",
    "    stop = 1\n",
    "    show(pk_vin)\n",
    "    show(M)\n",
    "    show(EchF)\n",
    "    \n",
    "\n",
    "################# \n",
    "    row_len = k*o\n",
    "    z_list = [0 for i in range(row_len)]    \n",
    "    \n",
    "    for j in range(m-1):\n",
    "        w = 1\n",
    "        while EchF[j+1,w] == 0 and w < row_len-1:\n",
    "            w = w + 1\n",
    "    \n",
    "        z_list[w] = EchF[j+1,row_len]\n",
    "\n",
    "    z_list[0] = EchF[0,row_len]\n",
    "\n",
    "    print(\"This is z_list--->\")\n",
    "    show(z_list)\n",
    "    z = z_list\n",
    "     \n",
    "vin_mod = []\n",
    "for j in range(k):\n",
    "    vin_mod.append(vin_list[j].list())\n",
    "\n",
    "for j in range(k):\n",
    "    for s in range(o):\n",
    "        vin_mod[j][v + s] = z_list[s + (j*o)]\n",
    "\n",
    "show(vin_mod)\n",
    "sig_list = []\n",
    "for s in vin_mod:\n",
    "    sig_list.append(Matrix(R, 1, p, s))\n",
    "\n",
    "show(sig_list)\n",
    "\n",
    "for j in range(k):\n",
    "    sig_list[j] = sig_list[j]*(U_inv.change_ring(R))\n",
    "\n",
    "print(\"This is the signature----->\")\n",
    "show(sig_list)\n",
    "\n",
    " #-----------------Verification---------------------   \n",
    "zlist = sig_list.copy()\n",
    "for j in range(k):\n",
    "    zlist[j] = zlist[j]*U.change_ring(R)\n",
    "\n",
    "\n",
    "pk_list = [0 for c in range(k)]\n",
    "\n",
    "k_list = [0 for c in range(k)]\n",
    "for t in range(k):\n",
    "    xU = zlist[t]\n",
    "    show(xU)\n",
    "    \n",
    "    tmp = xU*f_list[0]*xU.transpose()\n",
    "    for r in range(m-1):\n",
    "        tmp = tmp.stack(xU*f_list[r+1]*xU.transpose())\n",
    "    pk_list[t] = T.change_ring(R)*(tmp)\n",
    "\n",
    "tmp_list = zlist.copy()\n",
    "e = k\n",
    "for i in range(k):\n",
    "    tmp_val = tmp_list[0]\n",
    "    tmp_list.pop(0)\n",
    "    e = e - 1\n",
    "    \n",
    "    for j in range(e):\n",
    "        po_0 = tmp_val + tmp_list[0]\n",
    "        po_1 = tmp_val\n",
    "        po_2 = tmp_list[0]\n",
    "        pol_tmp = (po_0*f_list[0]*po_0.transpose()) - (po_1*f_list[0]*po_1.transpose()) - (po_2*f_list[0]*po_2.transpose())\n",
    "    \n",
    "        for r in range(m-1):\n",
    "            pol_tmp = pol_tmp.stack((po_0*f_list[r+1]*po_0.transpose()) - (po_1*f_list[r+1]*po_1.transpose()) - (po_2*f_list[r+1])*po_2.transpose())\n",
    "        pk_list.append(T.change_ring(R)*(pol_tmp))\n",
    "\n",
    "print(\"This is pk_list----->\")\n",
    "show(pk_list)\n",
    "\n",
    "pk_s = E_list[0]*pk_list[0]\n",
    "for i in range(num - 1):\n",
    "    pk_s = pk_s + E_list[i+1]*pk_list[i+1]\n",
    "\n",
    "print(\"Signature Verifies!\")\n",
    "show(pk_s)"
   ]
  },
  {
   "cell_type": "code",
   "execution_count": null,
   "id": "d1581034",
   "metadata": {},
   "outputs": [],
   "source": []
  }
 ],
 "metadata": {
  "kernelspec": {
   "display_name": "SageMath 9.5",
   "language": "sage",
   "name": "sagemath"
  },
  "language_info": {
   "codemirror_mode": {
    "name": "ipython",
    "version": 3
   },
   "file_extension": ".py",
   "mimetype": "text/x-python",
   "name": "python",
   "nbconvert_exporter": "python",
   "pygments_lexer": "ipython3",
   "version": "3.10.6"
  }
 },
 "nbformat": 4,
 "nbformat_minor": 5
}
